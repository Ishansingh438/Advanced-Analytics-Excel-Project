{
  "nbformat": 4,
  "nbformat_minor": 0,
  "metadata": {
    "colab": {
      "provenance": [],
      "authorship_tag": "ABX9TyPW3pPfwnYyqfEdXEu5Ygtu",
      "include_colab_link": true
    },
    "kernelspec": {
      "name": "python3",
      "display_name": "Python 3"
    },
    "language_info": {
      "name": "python"
    }
  },
  "cells": [
    {
      "cell_type": "markdown",
      "metadata": {
        "id": "view-in-github",
        "colab_type": "text"
      },
      "source": [
        "<a href=\"https://colab.research.google.com/github/Ishansingh438/Advanced-Analytics-Excel-Project/blob/main/Excel_Project_week_02.ipynb\" target=\"_parent\"><img src=\"https://colab.research.google.com/assets/colab-badge.svg\" alt=\"Open In Colab\"/></a>"
      ]
    },
    {
      "cell_type": "markdown",
      "source": [
        "# Advanced Excel Project :-\n",
        "\n",
        "https://1drv.ms/x/s!AnVeGyMbMfYkg1zC5cA4SZBfkQWF?e=mgtLGK"
      ],
      "metadata": {
        "id": "3c3-Qkn89dYS"
      }
    }
  ]
}